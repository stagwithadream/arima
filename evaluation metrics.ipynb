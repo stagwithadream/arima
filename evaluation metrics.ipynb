{
 "cells": [
  {
   "cell_type": "code",
   "execution_count": 1,
   "metadata": {},
   "outputs": [
    {
     "name": "stdout",
     "output_type": "stream",
     "text": [
      "[[4.8]\n",
      " [6.2]\n",
      " [6.3]\n",
      " ...\n",
      " [4. ]\n",
      " [3. ]\n",
      " [4. ]]\n"
     ]
    },
    {
     "name": "stderr",
     "output_type": "stream",
     "text": [
      "C:\\Users\\Sairam Reddy\\Anaconda3\\envs\\arima\\lib\\site-packages\\ipykernel_launcher.py:7: FutureWarning: The pandas.datetime class is deprecated and will be removed from pandas in a future version. Import from datetime module instead.\n",
      "  import sys\n"
     ]
    }
   ],
   "source": [
    "import pandas as pd\n",
    "from datetime import datetime\n",
    "from math import sqrt\n",
    "from sklearn.metrics import r2_score\n",
    "import warnings\n",
    "from pandas import read_csv\n",
    "from pandas import datetime\n",
    "from statsmodels.tsa.arima_model import ARIMA\n",
    "from sklearn.metrics import mean_squared_error\n",
    "from sklearn.metrics import median_absolute_error\n",
    "from sklearn.metrics import mean_squared_log_error\n",
    "\n",
    "from sklearn.metrics import explained_variance_score\n",
    "\n",
    "from sklearn.metrics import mean_absolute_error\n",
    "dataset=pd.read_csv(\"C:\\\\Users\\Sairam Reddy\\Desktop\\ARIMA\\scrapped datasets\\completeValues\\hyd_So2_pollution_data_completeValues.csv\")\n",
    "#print(dataset)\n",
    "dataset['Date']=pd.to_datetime(dataset['Date'],infer_datetime_format=True)\n",
    "#print(dataset.values)\n",
    "series=dataset.set_index(['Date'])    \n",
    "df=series.copy()\n",
    "print(series.values)\n",
    "\n",
    "# evaluate an ARIMA model for a given order (p,d,q)\n",
    "def evaluate_arima_model(X, arima_order):\n",
    "    # prepare training dataset\n",
    "    train_size = int(len(X) * 0.66)\n",
    "    train, test = X[0:train_size], X[train_size:]\n",
    "    history = [x for x in train]\n",
    "    # make predictions\n",
    "    predictions = list()\n",
    "    for t in range(len(test)):\n",
    "        model = ARIMA(history, order=arima_order)\n",
    "        model_fit = model.fit(disp=0)\n",
    "        yhat = model_fit.forecast()[0]\n",
    "        predictions.append(yhat)\n",
    "        history.append(test[t])\n",
    "    # calculate out of sample error\n",
    "    error=[]\n",
    "    error.append((\"MSE: \",mean_squared_error(test, predictions)))\n",
    "    error.append((\"MASE : \",mean_absolute_error(test, predictions)))\n",
    "    error.append((\"RMSE : \",sqrt(mean_absolute_error(test, predictions))))\n",
    "    error.append((\"MAPE  :\",mean_absolute_percentage_error(test,predictions)))\n",
    "    error.append((\"Median Aabsolute Error :\",median_absolute_error(test,predictions)))\n",
    "    error.append((\"Explained Variance score :\",explained_variance_score(test,predictions)))#EXPLAINED VARIANCE SCORE\n",
    "    error.append((\"r2 score :\",r2_score(test,predictions)))#R2 SCORE FUCNTION DETERMINATION SCORE\n",
    "    error.append((\"MLSE (mean squared log error):\",mean_squared_log_error(test,predictions)))\n",
    "    \n",
    "    return error\n",
    "\n",
    "\n",
    "\n",
    "\n"
   ]
  },
  {
   "cell_type": "code",
   "execution_count": 2,
   "metadata": {},
   "outputs": [],
   "source": [
    "from sklearn.utils.validation import check_array\n",
    "import numpy as np\n",
    "def mean_absolute_percentage_error(y_true, y_pred): \n",
    "    \"\"\"\n",
    "    Use of this metric is not recommended; for illustration only. \n",
    "    See other regression metrics on sklearn docs:\n",
    "      http://scikit-learn.org/stable/modules/classes.html#regression-metrics\n",
    "    Use like any other metric\n",
    "    >>> y_true = [3, -0.5, 2, 7]; y_pred = [2.5, -0.3, 2, 8]\n",
    "    >>> mean_absolute_percentage_error(y_true, y_pred)\n",
    "    Out[]: 24.791666666666668\n",
    "    \"\"\"\n",
    "\n",
    "    y_true, y_pred = np.array(y_true), np.array(y_pred)\n",
    "\n",
    "    ## Note: does not handle mix 1d representation\n",
    "    #if _is_1d(y_true): \n",
    "    #    y_true, y_pred = _check_1d_array(y_true, y_pred)\n",
    "\n",
    "    return np.mean(np.abs((y_true - y_pred) / y_true)) * 100"
   ]
  },
  {
   "cell_type": "code",
   "execution_count": 44,
   "metadata": {},
   "outputs": [
    {
     "data": {
      "text/plain": [
       "[('MSE: ', 4.545597113845646),\n",
       " ('MASE : ', 1.314273850822523),\n",
       " ('RMSE : ', 1.1464178343093425),\n",
       " ('MAPE  :', 37.79099010439471),\n",
       " ('Median Aabsolute Error :', 0.6322104060000182),\n",
       " ('Explained Variance score :', 0.1778082475379188),\n",
       " ('r2 score :', 0.09509285086398056),\n",
       " ('MLSE (mean squared log error):', 0.11057607359337086)]"
      ]
     },
     "execution_count": 44,
     "metadata": {},
     "output_type": "execute_result"
    }
   ],
   "source": [
    "evaluate_arima_model(series.values,(0,0,1))"
   ]
  },
  {
   "cell_type": "code",
   "execution_count": 3,
   "metadata": {},
   "outputs": [
    {
     "data": {
      "text/plain": [
       "[('MSE: ', 3.6836298808513996),\n",
       " ('MASE : ', 0.9544011864924822),\n",
       " ('RMSE : ', 0.9769345865985513),\n",
       " ('MAPE  :', 24.74808240085765),\n",
       " ('Median Aabsolute Error :', 0.4546134960499706),\n",
       " ('Explained Variance score :', 0.26669197639046494),\n",
       " ('r2 score :', 0.26668753730938655),\n",
       " ('MLSE (mean squared log error):', 0.07497794224143173)]"
      ]
     },
     "execution_count": 3,
     "metadata": {},
     "output_type": "execute_result"
    }
   ],
   "source": [
    "evaluate_arima_model(series.values,(1,1,1))"
   ]
  },
  {
   "cell_type": "code",
   "execution_count": null,
   "metadata": {},
   "outputs": [],
   "source": [
    "evaluate_arima_model(series.values,(2,1,1))"
   ]
  },
  {
   "cell_type": "code",
   "execution_count": null,
   "metadata": {},
   "outputs": [],
   "source": [
    "evaluate_arima_model(series.values,(2,1,2))"
   ]
  },
  {
   "cell_type": "code",
   "execution_count": 32,
   "metadata": {},
   "outputs": [],
   "source": [
    "def evaluate_models(indexedDataset, p_values, d_values, q_values):\n",
    "    indexedDataset = indexedDataset.astype('float32')\n",
    "    best_score, best_cfg = float('inf'), None\n",
    "    for p in p_values:\n",
    "        print(p)\n",
    "        for d in d_values:\n",
    "            for q in q_values:\n",
    "                order = (p,d,q)\n",
    "                mse = evaluate_arima_model(indexedDataset, order)\n",
    "                print( (order,mse))\n",
    "\n",
    "p_values = [0, 1, 2, 4, 6, 8, 10]\n",
    "d_values = range(0, 3)\n",
    "q_values = range(0, 3)\n",
    "warnings.filterwarnings(\"ignore\")\n",
    "evaluate_models(series.values, p_values, d_values, q_values)"
   ]
  },
  {
   "cell_type": "code",
   "execution_count": 34,
   "metadata": {},
   "outputs": [],
   "source": []
  }
 ],
 "metadata": {
  "kernelspec": {
   "display_name": "Python 3",
   "language": "python",
   "name": "python3"
  },
  "language_info": {
   "codemirror_mode": {
    "name": "ipython",
    "version": 3
   },
   "file_extension": ".py",
   "mimetype": "text/x-python",
   "name": "python",
   "nbconvert_exporter": "python",
   "pygments_lexer": "ipython3",
   "version": "3.7.6"
  }
 },
 "nbformat": 4,
 "nbformat_minor": 4
}
